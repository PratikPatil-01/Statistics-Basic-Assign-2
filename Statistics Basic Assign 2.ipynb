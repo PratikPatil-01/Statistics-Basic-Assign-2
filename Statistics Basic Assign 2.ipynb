{
 "cells": [
  {
   "cell_type": "markdown",
   "id": "06e18dc6-dc4e-48a2-b3fb-cce0eabe8d99",
   "metadata": {},
   "source": [
    "1) \n",
    "</br>\n",
    "The three measures of central tendency are:\n",
    "</br>\n",
    "Mean: It is the average of all the values in a dataset. It is calculated by summing up all the values and dividing by the total number of values.\n",
    "</br>\n",
    "Median: It is the middle value of a dataset when it is ordered from smallest to largest. If there is an even number of observations, the median is the average of the two middle values.\n",
    "</br>\n",
    "Mode: It is the value that appears most frequently in a dataset. A dataset can have one mode (unimodal), two modes (bimodal), or more than two modes (multimodal)."
   ]
  },
  {
   "cell_type": "code",
   "execution_count": null,
   "id": "ae960992-3194-4252-802b-8205e7926f1c",
   "metadata": {},
   "outputs": [],
   "source": []
  },
  {
   "cell_type": "markdown",
   "id": "656bfcbb-5115-4c83-857b-9ff35371095e",
   "metadata": {},
   "source": [
    "2) \n",
    "</br>\n",
    "The mean, median, and mode are three measures of central tendency used to summarize a dataset. Here's how they differ and how they are used to measure central tendency:\n",
    "</br>\n",
    "Mean: The mean is the arithmetic average of all the values in a dataset. It is calculated by summing up all the values and dividing by the total number of values. The mean is sensitive to outliers, meaning that extreme values can greatly influence its value. It is commonly used when the data is normally distributed or approximately symmetrically distributed.\n",
    "</br>\n",
    "Median: The median is the middle value of a dataset when it is ordered from smallest to largest. If there is an even number of observations, the median is the average of the two middle values. The median is not affected by extreme values or outliers, making it a robust measure of central tendency. It is often used when the data is skewed or contains outliers.\n",
    "</br>\n",
    "Mode: The mode is the value that appears most frequently in a dataset. A dataset can have one mode (unimodal), two modes (bimodal), or more than two modes (multimodal). Unlike the mean and median, the mode can be used for both numerical and categorical data. It is useful for identifying the most common value or category in a dataset.\n",
    "</br>\n",
    "These measures are used to provide a single value that represents the central or typical value of a dataset. Depending on the distribution and characteristics of the data, one or more of these measures may be appropriate. For example, in a dataset with a symmetrical distribution and no outliers, the mean may be a suitable measure of central tendency. However, in a dataset with skewed distribution or outliers, the median may provide a better representation. The mode is often used in categorical data or when identifying the most common value or category."
   ]
  },
  {
   "cell_type": "code",
   "execution_count": null,
   "id": "d2070b4d-827b-4e14-ae48-940fa85043db",
   "metadata": {},
   "outputs": [],
   "source": []
  },
  {
   "cell_type": "markdown",
   "id": "09c28776-6f5b-4c3d-8329-e40e897bc34d",
   "metadata": {},
   "source": [
    "3) "
   ]
  },
  {
   "cell_type": "code",
   "execution_count": 1,
   "id": "a375ce26-33d5-4a2e-bbe2-f42a4b45daf8",
   "metadata": {},
   "outputs": [
    {
     "name": "stdout",
     "output_type": "stream",
     "text": [
      "Mean: 177.01875\n",
      "Median: 177.0\n",
      "Mode: 177.0\n"
     ]
    },
    {
     "name": "stderr",
     "output_type": "stream",
     "text": [
      "/tmp/ipykernel_71/2827748557.py:14: FutureWarning: Unlike other reduction functions (e.g. `skew`, `kurtosis`), the default behavior of `mode` typically preserves the axis it acts along. In SciPy 1.11.0, this behavior will change: the default value of `keepdims` will become False, the `axis` over which the statistic is taken will be eliminated, and the value None will no longer be accepted. Set `keepdims` to True or False to avoid this warning.\n",
      "  mode_height = stats.mode(height_data)\n"
     ]
    }
   ],
   "source": [
    "import numpy as np\n",
    "from scipy import stats\n",
    "\n",
    "# Given height data\n",
    "height_data = [178, 177, 176, 177, 178.2, 178, 175, 179, 180, 175, 178.9, 176.2, 177, 172.5, 178, 176.5]\n",
    "\n",
    "# Mean\n",
    "mean_height = np.mean(height_data)\n",
    "\n",
    "# Median\n",
    "median_height = np.median(height_data)\n",
    "\n",
    "# Mode\n",
    "mode_height = stats.mode(height_data)\n",
    "\n",
    "print(\"Mean:\", mean_height)\n",
    "print(\"Median:\", median_height)\n",
    "print(\"Mode:\", mode_height.mode[0])"
   ]
  },
  {
   "cell_type": "code",
   "execution_count": null,
   "id": "af8ce031-158e-4bc1-aeca-a009ad0b68a5",
   "metadata": {},
   "outputs": [],
   "source": []
  },
  {
   "cell_type": "markdown",
   "id": "328b48a5-7aff-49c3-b392-e15d9315191b",
   "metadata": {},
   "source": [
    "4) "
   ]
  },
  {
   "cell_type": "code",
   "execution_count": 2,
   "id": "1328e639-4d95-4c8a-8932-4870638c6124",
   "metadata": {},
   "outputs": [
    {
     "name": "stdout",
     "output_type": "stream",
     "text": [
      "Standard Deviation: 1.7885814036548633\n"
     ]
    }
   ],
   "source": [
    "import numpy as np\n",
    "\n",
    "# Given height data\n",
    "height_data = [178, 177, 176, 177, 178.2, 178, 175, 179, 180, 175, 178.9, 176.2, 177, 172.5, 178, 176.5]\n",
    "\n",
    "# Calculate standard deviation\n",
    "std_dev = np.std(height_data)\n",
    "\n",
    "print(\"Standard Deviation:\", std_dev)"
   ]
  },
  {
   "cell_type": "code",
   "execution_count": null,
   "id": "a578cc08-3932-41f9-8174-d404ae3c6d2e",
   "metadata": {},
   "outputs": [],
   "source": []
  },
  {
   "cell_type": "markdown",
   "id": "0d8d0278-69cb-47f0-87c6-1ce34e11669a",
   "metadata": {},
   "source": [
    "5) \n",
    "</br>\n",
    "Measures of dispersion, such as range, variance, and standard deviation, provide information about the spread or dispersion of data points in a dataset. They complement measures of central tendency (like mean, median, and mode) by indicating how much individual data points deviate from the central value.\n",
    "</br>\n",
    "Range: The range is the simplest measure of dispersion and is calculated as the difference between the maximum and minimum values in a dataset. It provides a rough estimate of how widely the data is spread out. A larger range indicates a greater spread, while a smaller range indicates less variability.\n",
    "</br>\n",
    "Variance: Variance measures the average squared deviation of each data point from the mean. It gives a more precise measure of dispersion compared to the range. A higher variance indicates that the data points are more spread out from the mean, while a lower variance suggests that the data points are closer to the mean.\n",
    "</br>\n",
    "Standard Deviation: The standard deviation is the square root of the variance and provides a measure of the average deviation of data points from the mean. It is widely used because it is expressed in the same units as the original data, making it easy to interpret. Like variance, a higher standard deviation indicates greater dispersion, while a lower standard deviation indicates less variability."
   ]
  },
  {
   "cell_type": "code",
   "execution_count": 3,
   "id": "ee171090-006c-4183-b6f0-04a62ccd5b36",
   "metadata": {},
   "outputs": [
    {
     "name": "stdout",
     "output_type": "stream",
     "text": [
      "Class A Variance: 2.0\n",
      "Class A Standard Deviation: 1.4142135623730951\n",
      "Class B Variance: 14.0\n",
      "Class B Standard Deviation: 3.7416573867739413\n"
     ]
    }
   ],
   "source": [
    "import numpy as np\n",
    "\n",
    "# Ages of students in class A and B\n",
    "class_A = [18, 20, 19, 21, 22]\n",
    "class_B = [15, 16, 17, 23, 24]\n",
    "\n",
    "# Calculate variance and standard deviation\n",
    "variance_A = np.var(class_A)\n",
    "std_deviation_A = np.std(class_A)\n",
    "variance_B = np.var(class_B)\n",
    "std_deviation_B = np.std(class_B)\n",
    "\n",
    "print(\"Class A Variance:\", variance_A)\n",
    "print(\"Class A Standard Deviation:\", std_deviation_A)\n",
    "print(\"Class B Variance:\", variance_B)\n",
    "print(\"Class B Standard Deviation:\", std_deviation_B)"
   ]
  },
  {
   "cell_type": "code",
   "execution_count": null,
   "id": "8c024375-df5b-41f2-b7af-a22e91784457",
   "metadata": {},
   "outputs": [],
   "source": []
  },
  {
   "cell_type": "markdown",
   "id": "b6758796-b0c6-4284-ac15-33e3c74f009b",
   "metadata": {},
   "source": [
    "6) \n",
    "</br>\n",
    "A Venn diagram is a visual representation of the relationships between different sets of data. It consists of overlapping circles (or other shapes) where each circle represents a set and the overlapping areas represent the elements that are common to those sets. Venn diagrams are commonly used to illustrate logical relationships between different groups or categories.\n",
    "</br>\n",
    "The basic elements of a Venn diagram include:\n",
    "</br>\n",
    "Sets: Each circle in the diagram represents a set, which is a collection of elements or objects.\n",
    "</br>\n",
    "Overlap: The overlapping areas between circles represent elements that belong to more than one set. The size of the overlap indicates the degree of intersection between the sets.\n",
    "</br>\n",
    "Regions: The non-overlapping areas within each circle represent elements that belong exclusively to that set.\n",
    "</br>\n",
    "Venn diagrams are useful for visually representing the relationships between sets, including intersections, unions, differences, and complements. They are commonly used in mathematics, logic, statistics, and other fields to illustrate concepts such as set theory, probability, and logical operations.\n",
    "</br>\n",
    "For example, consider a Venn diagram representing the relationship between different categories of animals:\n",
    "</br>\n",
    "Circle A represents mammals.</br>\n",
    "Circle B represents birds.</br>\n",
    "The overlapping area between circles A and B represents animals that are both mammals and birds, such as bats.</br>\n",
    "The non-overlapping areas within each circle represent animals that belong exclusively to one category (e.g., dogs in circle A and eagles in circle B)."
   ]
  },
  {
   "cell_type": "code",
   "execution_count": null,
   "id": "a8ae52a0-d6b4-4560-b4a5-9e5a981715a5",
   "metadata": {},
   "outputs": [],
   "source": []
  },
  {
   "cell_type": "markdown",
   "id": "45086316-d02b-4d43-ac25-03c155ee7f22",
   "metadata": {},
   "source": [
    "7) "
   ]
  },
  {
   "cell_type": "code",
   "execution_count": 4,
   "id": "a4f87ebf-5b06-4d61-841d-9b2e64e8a01b",
   "metadata": {},
   "outputs": [
    {
     "name": "stdout",
     "output_type": "stream",
     "text": [
      "Intersection of A and B: {2, 6}\n",
      "Union of A and B: {0, 2, 3, 4, 5, 6, 7, 8, 10}\n"
     ]
    }
   ],
   "source": [
    "# Given sets\n",
    "A = {2, 3, 4, 5, 6, 7}\n",
    "B = {0, 2, 6, 8, 10}\n",
    "\n",
    "# Intersection of sets A and B\n",
    "intersection_AB = A.intersection(B)\n",
    "print(\"Intersection of A and B:\", intersection_AB)\n",
    "\n",
    "# Union of sets A and B\n",
    "union_AB = A.union(B)\n",
    "print(\"Union of A and B:\", union_AB)"
   ]
  },
  {
   "cell_type": "code",
   "execution_count": null,
   "id": "540c843e-ff4b-4857-9a13-04f682d4999d",
   "metadata": {},
   "outputs": [],
   "source": []
  },
  {
   "cell_type": "markdown",
   "id": "be6cf97c-21f3-4647-965e-052bd74c2be5",
   "metadata": {},
   "source": [
    "8) \n",
    "</br>\n",
    "Skewness in data refers to the asymmetry or lack of symmetry in the distribution of data points around the mean. It is a measure of the degree to which the data distribution deviates from the normal distribution (bell-shaped curve).\n",
    "</br>\n",
    "There are three main types of skewness:\n",
    "</br>\n",
    "Positive Skewness (Right Skewness): In a positively skewed distribution, the tail of the distribution extends towards the right, and the majority of the data points are concentrated on the left side of the distribution. This means that there are more extreme values (higher than the mean) on the right side of the distribution. The mean is typically greater than the median in a positively skewed distribution.\n",
    "</br>\n",
    "Negative Skewness (Left Skewness): In a negatively skewed distribution, the tail of the distribution extends towards the left, and the majority of the data points are concentrated on the right side of the distribution. This means that there are more extreme values (lower than the mean) on the left side of the distribution. The mean is typically less than the median in a negatively skewed distribution.\n",
    "</br>\n",
    "Zero Skewness: A distribution is considered to have zero skewness (symmetrical) when it is perfectly symmetric around the mean. In this case, the mean, median, and mode are all equal.\n",
    "</br>\n",
    "Skewness is an important statistical measure because it provides insights into the shape and behavior of the data distribution. It helps to identify the presence of outliers and asymmetry in the data, which can affect the interpretation of statistical analyses and models. Skewness can also influence the choice of appropriate statistical techniques and transformations to analyze the data accurately."
   ]
  },
  {
   "cell_type": "code",
   "execution_count": null,
   "id": "39fa65d3-1aff-436f-8c71-cc222c656d0b",
   "metadata": {},
   "outputs": [],
   "source": []
  },
  {
   "cell_type": "markdown",
   "id": "7add7578-7408-49cf-bf99-44f79f99aa8c",
   "metadata": {},
   "source": [
    "9) \n",
    "</br>\n",
    "If a data distribution is right-skewed (positively skewed), it means that the tail of the distribution extends towards the higher values, and there are more extreme values on the right side of the distribution. In a right-skewed distribution:\n",
    "</br>\n",
    "The mean is typically greater than the median.</br>\n",
    "The median is positioned to the left of the mean.</br>\n",
    "This is because the presence of higher extreme values on the right side of the distribution pulls the mean towards the right, resulting in a higher mean value compared to the median. The median, being less sensitive to extreme values, remains relatively stable and is typically located closer to the center of the distribution where the bulk of the data points are concentrated."
   ]
  },
  {
   "cell_type": "code",
   "execution_count": null,
   "id": "3be6dedc-3f05-48fc-a4c0-b3298c0c5ccf",
   "metadata": {},
   "outputs": [],
   "source": []
  },
  {
   "cell_type": "markdown",
   "id": "46168816-9118-4fc2-831b-7d063491fd1b",
   "metadata": {},
   "source": [
    "10) \n",
    "</br>\n",
    "Covariance and correlation are two measures used to quantify the relationship between two variables in a dataset. While both covariance and correlation indicate the direction of the relationship (whether it's positive or negative), they differ in terms of scale and interpretation.\n",
    "</br>\n",
    "1. Covariance:\n",
    "</br>\n",
    "Covariance measures the extent to which two variables change together. It indicates the direction of the linear relationship between two variables (positive or negative) but does not provide information about the strength of the relationship.\n",
    "Covariance can take any value, positive, negative, or zero. A positive covariance indicates a positive relationship (both variables increase or decrease together), a negative covariance indicates a negative relationship (one variable increases while the other decreases), and zero covariance indicates no linear relationship.\n",
    "The magnitude of covariance depends on the scale of the variables, making it difficult to interpret. Therefore, covariance is not standardized and is not suitable for comparing the strength of relationships across different datasets.\n",
    "</br>\n",
    "2. Correlation:\n",
    "</br>\n",
    "Correlation measures the strength and direction of the linear relationship between two variables. It standardizes the covariance by dividing it by the product of the standard deviations of the two variables, resulting in a value between -1 and 1.\n",
    "Correlation coefficients range from -1 to 1. A correlation coefficient of 1 indicates a perfect positive linear relationship, -1 indicates a perfect negative linear relationship, and 0 indicates no linear relationship. The closer the correlation coefficient is to 1 or -1, the stronger the linear relationship.\n",
    "Unlike covariance, correlation is standardized, making it easier to interpret and compare across different datasets.\n",
    "Correlation does not imply causation. Even if two variables are highly correlated, it does not necessarily mean that one variable causes the other to change.\n",
    "</br>\n",
    "</br>\n",
    "Usage in Statistical Analysis:\n",
    "</br>\n",
    "Covariance and correlation are both used to measure the relationship between two variables in statistical analysis.</br>\n",
    "Covariance is used to assess the direction of the relationship between variables and to identify whether the relationship is positive, negative, or neutral.</br>\n",
    "Correlation is used to quantify the strength and direction of the linear relationship between variables. It provides a standardized measure that allows for easier comparison across different datasets.</br>\n",
    "Both covariance and correlation are widely used in various fields, including finance, economics, biology, engineering, and social sciences, to analyze relationships between variables, make predictions, and inform decision-making processes."
   ]
  },
  {
   "cell_type": "code",
   "execution_count": null,
   "id": "e7bc4f27-98cc-4e1d-8e90-eea74335337b",
   "metadata": {},
   "outputs": [],
   "source": []
  },
  {
   "cell_type": "markdown",
   "id": "9202c7b3-e942-480b-8c55-e5fba589ae66",
   "metadata": {},
   "source": [
    "11) \n",
    "</br>\n",
    "The formula for calculating the sample mean (average) of a dataset is as follows:\n",
    "</br>\n",
    "Sample Mean = Sum of each individual value in the dataset / the total number of values in the dataset."
   ]
  },
  {
   "cell_type": "code",
   "execution_count": 5,
   "id": "eb4b9133-537d-44fd-9583-a35fc05345e3",
   "metadata": {},
   "outputs": [
    {
     "name": "stdout",
     "output_type": "stream",
     "text": [
      "Sample Mean by Python: 85.8\n",
      "Sample Mean by Formula: 85.8\n"
     ]
    }
   ],
   "source": [
    "import numpy as np\n",
    "\n",
    "# Example dataset\n",
    "data = [85, 90, 75, 80, 92, 88, 78, 86, 89, 95]\n",
    "\n",
    "# Calculate the sample mean by python\n",
    "sample_mean_1 = np.mean(data)\n",
    "\n",
    "# Calculate the sample mean by formula\n",
    "sum_of_obs = 85+90+75+80+92+88+78+86+89+95\n",
    "sample_mean_2 = sum_of_obs/10\n",
    "\n",
    "print(\"Sample Mean by Python:\", sample_mean_1)\n",
    "print(\"Sample Mean by Formula:\", sample_mean_2)"
   ]
  },
  {
   "cell_type": "code",
   "execution_count": null,
   "id": "0575661d-d13b-44ed-8f19-be0f5595fda3",
   "metadata": {},
   "outputs": [],
   "source": []
  },
  {
   "cell_type": "markdown",
   "id": "1d39db02-21a5-42c7-bbab-842bb2b48c1b",
   "metadata": {},
   "source": [
    "12) \n",
    "</br>\n",
    "For a normal distribution, the relationship between its measures of central tendency (mean, median, and mode) is as follows:\n",
    "</br>\n",
    "Mean: The mean, median, and mode of a normal distribution are all equal. In a perfectly symmetrical normal distribution, the mean, median, and mode are located at the center of the distribution, and they all have the same value.\n",
    "</br>\n",
    "Median: The median of a normal distribution is equal to its mean. This is because a normal distribution is symmetric around its mean, so the median, which represents the middle value, coincides with the mean.\n",
    "</br>\n",
    "Mode: The mode of a normal distribution is also equal to its mean and median. In a normal distribution, the peak of the distribution, where the mode is located, coincides with the mean and median because of the symmetrical nature of the distribution.\n",
    "</br>\n",
    "In summary, for a normal distribution, the mean, median, and mode are all located at the center of the distribution and have the same value. This relationship holds true regardless of the specific parameters of the normal distribution, such as its mean and standard deviation."
   ]
  },
  {
   "cell_type": "code",
   "execution_count": null,
   "id": "0d24d6f8-bf66-4796-bab4-046cd4cac07e",
   "metadata": {},
   "outputs": [],
   "source": []
  },
  {
   "cell_type": "markdown",
   "id": "e108be33-6aa4-453f-8b02-3a481ff47926",
   "metadata": {},
   "source": [
    "13) \n",
    "</br>\n",
    "Covariance and correlation are both measures used to quantify the relationship between two variables in a dataset, but they differ in several key aspects:\n",
    "</br>\n",
    "Definition:\n",
    "</br>\n",
    "Covariance measures the extent to which two variables change together. It indicates the direction of the linear relationship between two variables (positive or negative) but does not provide information about the strength of the relationship.</br>\n",
    "Correlation measures the strength and direction of the linear relationship between two variables. It standardizes the covariance by dividing it by the product of the standard deviations of the two variables, resulting in a value between -1 and 1.</br>\n",
    "</br>\n",
    "Scale:\n",
    "</br>\n",
    "Covariance is not standardized and can take any value, positive, negative, or zero. The magnitude of covariance depends on the scale of the variables, making it difficult to interpret and compare across different datasets.</br>\n",
    "Correlation is standardized and ranges from -1 to 1. A correlation coefficient of 1 indicates a perfect positive linear relationship, -1 indicates a perfect negative linear relationship, and 0 indicates no linear relationship. The closer the correlation coefficient is to 1 or -1, the stronger the linear relationship.</br>\n",
    "</br>\n",
    "Interpretation:\n",
    "</br>\n",
    "Covariance indicates the direction of the relationship between two variables (positive or negative) but does not provide information about the strength of the relationship.</br>\n",
    "A positive covariance indicates a positive relationship (both variables increase or decrease together), a negative covariance indicates a negative relationship (one variable increases while the other decreases), and zero covariance indicates no linear relationship.</br>\n",
    "Correlation provides a standardized measure of the strength and direction of the linear relationship between two variables. It is easier to interpret and compare across different datasets because it is standardized and ranges from -1 to 1.\n",
    "</br>\n",
    "Units:\n",
    "</br>\n",
    "Covariance is expressed in the units of the variables being measured.</br>\n",
    "Correlation is a dimensionless measure and does not have any units.</br>\n",
    "In summary, while covariance and correlation both measure the relationship between two variables, correlation provides a more standardized and interpretable measure of the strength and direction of the linear relationship, making it more widely used in statistical analysis and interpretation."
   ]
  },
  {
   "cell_type": "code",
   "execution_count": null,
   "id": "a33f86d0-faad-4979-9455-661a5b11d43c",
   "metadata": {},
   "outputs": [],
   "source": []
  },
  {
   "cell_type": "markdown",
   "id": "f12490d2-3e6d-423a-b6a4-9e7d0b9a220d",
   "metadata": {},
   "source": [
    "14) \n",
    "Before introducing the outlier (100), the mean and median were close to each other, and the standard deviation was relatively low.\n",
    "After introducing the outlier, the mean increased significantly, pulling it away from the median. Additionally, the standard deviation increased, indicating greater variability in the dataset."
   ]
  },
  {
   "cell_type": "code",
   "execution_count": 6,
   "id": "d2457e35-26f8-439e-869a-3d50cd6170b0",
   "metadata": {},
   "outputs": [
    {
     "name": "stdout",
     "output_type": "stream",
     "text": [
      "Before Outlier:\n",
      "Mean: 30.0\n",
      "Median: 30.0\n",
      "Standard Deviation: 12.909944487358056\n",
      "\n",
      "After Outlier:\n",
      "Mean: 37.0\n",
      "Median: 32.5\n",
      "Standard Deviation: 24.310491562286437\n"
     ]
    }
   ],
   "source": [
    "import numpy as np\n",
    "\n",
    "# Define a dataset\n",
    "data = [10, 15, 20, 25, 30, 35, 40, 45, 50]\n",
    "\n",
    "# Calculate mean, median, and standard deviation before introducing outliers\n",
    "mean_before = np.mean(data)\n",
    "median_before = np.median(data)\n",
    "std_dev_before = np.std(data)\n",
    "\n",
    "print(\"Before Outlier:\")\n",
    "print(\"Mean:\", mean_before)\n",
    "print(\"Median:\", median_before)\n",
    "print(\"Standard Deviation:\", std_dev_before)\n",
    "\n",
    "# Introduce an outlier\n",
    "data_with_outlier = data + [100]\n",
    "\n",
    "# Calculate mean, median, and standard deviation after introducing outliers\n",
    "mean_after = np.mean(data_with_outlier)\n",
    "median_after = np.median(data_with_outlier)\n",
    "std_dev_after = np.std(data_with_outlier)\n",
    "\n",
    "print(\"\\nAfter Outlier:\")\n",
    "print(\"Mean:\", mean_after)\n",
    "print(\"Median:\", median_after)\n",
    "print(\"Standard Deviation:\", std_dev_after)"
   ]
  }
 ],
 "metadata": {
  "kernelspec": {
   "display_name": "Python 3 (ipykernel)",
   "language": "python",
   "name": "python3"
  },
  "language_info": {
   "codemirror_mode": {
    "name": "ipython",
    "version": 3
   },
   "file_extension": ".py",
   "mimetype": "text/x-python",
   "name": "python",
   "nbconvert_exporter": "python",
   "pygments_lexer": "ipython3",
   "version": "3.10.8"
  }
 },
 "nbformat": 4,
 "nbformat_minor": 5
}
